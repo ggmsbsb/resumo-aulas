{
 "cells": [
  {
   "cell_type": "markdown",
   "id": "e1d54d63",
   "metadata": {},
   "source": [
    "# Resumão da prova"
   ]
  },
  {
   "cell_type": "markdown",
   "id": "65093d92",
   "metadata": {},
   "source": [
    "\n",
    "## 1. Apresentação da Ementa e Introdução à Aprendizagem de Máquina\n",
    "\n",
    "### O que é Aprendizagem de Máquina?\n",
    "Aprendizagem de Máquina (Machine Learning) é um campo da inteligência artificial (IA) que dá aos computadores a habilidade de aprender com dados e tomar decisões ou fazer previsões sem serem explicitamente programados para realizar uma tarefa específica.\n",
    "\n",
    "### Tipos de Aprendizagem de Máquina:\n",
    "1. **Aprendizagem Supervisionada**: O modelo é treinado com um conjunto de dados rotulados.\n",
    "2. **Aprendizagem Não Supervisionada**: O modelo encontra padrões em dados não rotulados.\n",
    "3. **Aprendizagem por Reforço**: O modelo aprende a agir em um ambiente para maximizar uma recompensa.\n",
    "\n",
    "Essas técnicas são amplamente utilizadas em diversas áreas, como reconhecimento de fala, visão computacional, análise de dados e muito mais.\n"
   ]
  },
  {
   "cell_type": "markdown",
   "id": "b1e47b84",
   "metadata": {},
   "source": [
    "\n",
    "## 2. Classificação e Regressão\n",
    "\n",
    "### Classificação:\n",
    "A classificação é uma tarefa de aprendizado supervisionado onde o objetivo é categorizar um dado de entrada em uma das várias classes predefinidas. Exemplos de algoritmos de classificação incluem:\n",
    "- **K-Nearest Neighbors (KNN)**\n",
    "- **Support Vector Machines (SVM)**\n",
    "- **Random Forests**\n",
    "\n",
    "### Regressão:\n",
    "A regressão também é uma tarefa de aprendizado supervisionado, mas o objetivo é prever um valor numérico contínuo. Exemplos de algoritmos de regressão incluem:\n",
    "- **Regressão Linear**\n",
    "- **Árvores de Decisão**\n",
    "- **Redes Neurais**\n",
    "\n",
    "#### Exemplo em Python: Regressão Linear\n",
    "Abaixo está um exemplo simples de como implementar uma regressão linear em Python usando a biblioteca `scikit-learn`.\n"
   ]
  },
  {
   "cell_type": "code",
   "execution_count": 3,
   "id": "4ffddc2e",
   "metadata": {},
   "outputs": [
    {
     "name": "stdout",
     "output_type": "stream",
     "text": [
      "Erro Quadrático Médio (MSE): 0.92\n"
     ]
    },
    {
     "data": {
      "image/png": "[encoded data removed]",
      "text/plain": [
       "<Figure size 640x480 with 1 Axes>"
      ]
     },
     "metadata": {},
     "output_type": "display_data"
    }
   ],
   "source": [
    "\n",
    "import numpy as np\n",
    "import matplotlib.pyplot as plt\n",
    "from sklearn.linear_model import LinearRegression\n",
    "from sklearn.model_selection import train_test_split\n",
    "from sklearn.metrics import mean_squared_error\n",
    "\n",
    "# Gerando dados de exemplo\n",
    "np.random.seed(0)\n",
    "X = 2 * np.random.rand(100, 1)\n",
    "y = 4 + 3 * X + np.random.randn(100, 1)\n",
    "\n",
    "# Dividindo os dados em treino e teste\n",
    "X_train, X_test, y_train, y_test = train_test_split(X, y, test_size=0.2, random_state=42)\n",
    "\n",
    "# Criando o modelo de regressão linear\n",
    "model = LinearRegression()\n",
    "model.fit(X_train, y_train)\n",
    "\n",
    "# Fazendo previsões\n",
    "y_pred = model.predict(X_test)\n",
    "\n",
    "# Avaliando o modelo\n",
    "mse = mean_squared_error(y_test, y_pred)\n",
    "print(f\"Erro Quadrático Médio (MSE): {mse:.2f}\")\n",
    "\n",
    "# Plotando os resultados\n",
    "plt.scatter(X_test, y_test, color='blue', label='Dados Reais')\n",
    "plt.plot(X_test, y_pred, color='red', linewidth=2, label='Previsão')\n",
    "plt.xlabel('X')\n",
    "plt.ylabel('y')\n",
    "plt.title('Regressão Linear')\n",
    "plt.legend()\n",
    "plt.show()\n"
   ]
  },
  {
   "cell_type": "markdown",
   "id": "b25ca360",
   "metadata": {},
   "source": [
    "\n",
    "## 3. Introdução à Otimização de Hiperparâmetros\n",
    "\n",
    "### O que são Hiperparâmetros?\n",
    "Hiperparâmetros são parâmetros de configuração externos ao modelo que não são ajustados durante o treinamento. Exemplos incluem a taxa de aprendizado, o número de vizinhos no KNN, ou a profundidade máxima de uma árvore de decisão.\n",
    "\n",
    "### Métodos de Otimização de Hiperparâmetros:\n",
    "1. **Grid Search**: Busca exaustiva em um espaço de parâmetros pré-definido.\n",
    "2. **Random Search**: Escolhe combinações aleatórias de parâmetros.\n",
    "3. **Busca Bayesiana**: Modelo probabilístico que melhora iterativamente a escolha dos parâmetros.\n",
    "\n",
    "#### Exemplo em Python: Grid Search\n",
    "Abaixo está um exemplo de como otimizar hiperparâmetros usando `GridSearchCV` do `scikit-learn`.\n"
   ]
  },
  {
   "cell_type": "code",
   "execution_count": 6,
   "id": "ccb8ea7e",
   "metadata": {},
   "outputs": [
    {
     "name": "stdout",
     "output_type": "stream",
     "text": [
      "Melhores parâmetros: {'fit_intercept': True}\n"
     ]
    }
   ],
   "source": [
    "\n",
    "from sklearn.model_selection import GridSearchCV\n",
    "from sklearn.linear_model import LinearRegression\n",
    "\n",
    "# Definindo o modelo e o espaço de parâmetros\n",
    "param_grid = {'fit_intercept': [True, False]}\n",
    "grid_search = GridSearchCV(LinearRegression(), param_grid, cv=5)\n",
    "\n",
    "# Realizando a busca\n",
    "grid_search.fit(X_train, y_train)\n",
    "print(\"Melhores parâmetros:\", grid_search.best_params_)\n"
   ]
  },
  {
   "cell_type": "markdown",
   "id": "77486cdf",
   "metadata": {},
   "source": [
    "\n",
    "## 4. Risco Empírico vs. Risco Estrutural\n",
    "\n",
    "### Risco Empírico:\n",
    "O risco empírico é a medida do erro do modelo nos dados de treinamento. É calculado como a média das perdas observadas em cada exemplo do conjunto de treinamento.\n",
    "\n",
    "### Risco Estrutural:\n",
    "O risco estrutural, por outro lado, é uma medida que busca equilibrar o risco empírico com a complexidade do modelo. A ideia é evitar o overfitting, penalizando modelos excessivamente complexos.\n",
    "\n",
    "### Função de Custo Regularizada:\n",
    "Uma maneira comum de incorporar o risco estrutural é adicionar um termo de regularização à função de custo, como em uma regressão Ridge ou Lasso.\n",
    "\n",
    "#### Exemplo em Python: Regressão Ridge\n",
    "Abaixo está um exemplo de como implementar uma regressão Ridge em Python.\n"
   ]
  },
  {
   "cell_type": "code",
   "execution_count": 8,
   "id": "8e5dede2",
   "metadata": {},
   "outputs": [
    {
     "name": "stdout",
     "output_type": "stream",
     "text": [
      "Erro Quadrático Médio (MSE) - Ridge: 0.91\n"
     ]
    }
   ],
   "source": [
    "\n",
    "from sklearn.linear_model import Ridge\n",
    "\n",
    "# Criando o modelo de regressão Ridge\n",
    "ridge_model = Ridge(alpha=1.0)\n",
    "ridge_model.fit(X_train, y_train)\n",
    "\n",
    "# Fazendo previsões\n",
    "y_pred_ridge = ridge_model.predict(X_test)\n",
    "\n",
    "# Avaliando o modelo\n",
    "mse_ridge = mean_squared_error(y_test, y_pred_ridge)\n",
    "print(f\"Erro Quadrático Médio (MSE) - Ridge: {mse_ridge:.2f}\")\n"
   ]
  }
 ],
 "metadata": {
  "kernelspec": {
   "display_name": "Python 3",
   "language": "python",
   "name": "python3"
  },
  "language_info": {
   "codemirror_mode": {
    "name": "ipython",
    "version": 3
   },
   "file_extension": ".py",
   "mimetype": "text/x-python",
   "name": "python",
   "nbconvert_exporter": "python",
   "pygments_lexer": "ipython3",
   "version": "3.12.3"
  }
 },
 "nbformat": 4,
 "nbformat_minor": 5
}
